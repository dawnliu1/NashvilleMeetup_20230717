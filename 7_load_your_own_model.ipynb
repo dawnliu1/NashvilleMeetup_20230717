{
 "cells": [
  {
   "cell_type": "code",
   "execution_count": 10,
   "metadata": {},
   "outputs": [],
   "source": [
    "import torch\n",
    "from transformers import BertTokenizer, BertForMaskedLM, AutoTokenizer, AutoModelForMaskedLM"
   ]
  },
  {
   "cell_type": "code",
   "execution_count": 2,
   "metadata": {},
   "outputs": [],
   "source": [
    "tokenizer_checkpoint = \"openwebtext_tokenizer_new\"\n",
    "tokenizer = BertTokenizer.from_pretrained(tokenizer_checkpoint, use_fast=True)\n",
    "model = BertForMaskedLM.from_pretrained(\"customized_bert_uncased_mlm/checkpoint-300000\")"
   ]
  },
  {
   "cell_type": "code",
   "execution_count": 3,
   "metadata": {},
   "outputs": [
    {
     "name": "stdout",
     "output_type": "stream",
     "text": [
      "The capital of France is [MASK].\n",
      "masked word: today\n",
      "This patient has shortness of [MASK].\n",
      "masked word: laughter\n",
      "This patient is 38 weeks [MASK].\n",
      "masked word: 1\n"
     ]
    }
   ],
   "source": [
    "inputs = [\"The capital of France is [MASK].\", \"This patient has shortness of [MASK].\", \"This patient is 38 weeks [MASK].\"]\n",
    "for input_ in inputs:\n",
    "    tokenized_input = tokenizer(input_, return_tensors='pt')\n",
    "    with torch.no_grad():\n",
    "        logits = model(**tokenized_input).logits\n",
    "\n",
    "    # retrieve index of [MASK]\n",
    "    mask_token_index = (tokenized_input.input_ids == tokenizer.mask_token_id)[0].nonzero(as_tuple=True)[0]\n",
    "    predicted_token_id = logits[0, mask_token_index].argmax(axis=-1)\n",
    "    tokenizer.decode(predicted_token_id)\n",
    "    \n",
    "    print(input_)\n",
    "    print('masked word:', tokenizer.decode(predicted_token_id))"
   ]
  },
  {
   "cell_type": "code",
   "execution_count": 4,
   "metadata": {},
   "outputs": [],
   "source": [
    "tokenizer_checkpoint = \"tokenizer\"\n",
    "tokenizer = AutoTokenizer.from_pretrained(tokenizer_checkpoint, use_fast = True)\n",
    "model_checkpoint = \"checkpoint-1000000\"\n",
    "model = BertForMaskedLM.from_pretrained(model_checkpoint)"
   ]
  },
  {
   "cell_type": "code",
   "execution_count": 5,
   "metadata": {
    "scrolled": true
   },
   "outputs": [
    {
     "name": "stdout",
     "output_type": "stream",
     "text": [
      "The capital of France is [MASK].\n",
      "masked word: .\n",
      "This patient has shortness of [MASK].\n",
      "masked word: breath\n",
      "This patient is 38 weeks [MASK].\n",
      "masked word: gestation\n"
     ]
    }
   ],
   "source": [
    "inputs = [\"The capital of France is [MASK].\", \"This patient has shortness of [MASK].\", \"This patient is 38 weeks [MASK].\"]\n",
    "for input_ in inputs:\n",
    "    tokenized_input = tokenizer(input_, return_tensors='pt')\n",
    "    with torch.no_grad():\n",
    "        logits = model(**tokenized_input).logits\n",
    "\n",
    "    # retrieve index of [MASK]\n",
    "    mask_token_index = (tokenized_input.input_ids == tokenizer.mask_token_id)[0].nonzero(as_tuple=True)[0]\n",
    "    predicted_token_id = logits[0, mask_token_index].argmax(axis=-1)\n",
    "    tokenizer.decode(predicted_token_id)\n",
    "    \n",
    "    print(input_)\n",
    "    print('masked word:', tokenizer.decode(predicted_token_id))"
   ]
  },
  {
   "cell_type": "code",
   "execution_count": null,
   "metadata": {},
   "outputs": [],
   "source": []
  }
 ],
 "metadata": {
  "kernelspec": {
   "display_name": "Python 3",
   "language": "python",
   "name": "python3"
  },
  "language_info": {
   "codemirror_mode": {
    "name": "ipython",
    "version": 3
   },
   "file_extension": ".py",
   "mimetype": "text/x-python",
   "name": "python",
   "nbconvert_exporter": "python",
   "pygments_lexer": "ipython3",
   "version": "3.8.10"
  }
 },
 "nbformat": 4,
 "nbformat_minor": 2
}
